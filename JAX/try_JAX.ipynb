{
 "cells": [
  {
   "attachments": {},
   "cell_type": "markdown",
   "metadata": {},
   "source": [
    "这里安装一下JAX，我使用的指令是：`$ conda install jax cuda-nvcc -c conda-forge -c nvidia`"
   ]
  },
  {
   "attachments": {},
   "cell_type": "markdown",
   "metadata": {},
   "source": []
  },
  {
   "cell_type": "code",
   "execution_count": 3,
   "metadata": {},
   "outputs": [],
   "source": [
    "import jax\n",
    "import jax.numpy as jnp\n",
    "from jax import grad, jit, vmap\n",
    "from jax import random"
   ]
  },
  {
   "cell_type": "code",
   "execution_count": 2,
   "metadata": {},
   "outputs": [
    {
     "name": "stdout",
     "output_type": "stream",
     "text": [
      "[-0.3721109   0.26423115 -0.18252768 -0.7368197  -0.44030377 -0.1521442\n",
      " -0.67135346 -0.5908641   0.73168886  0.5673026 ]\n",
      "11 ms ± 443 µs per loop (mean ± std. dev. of 7 runs, 1 loop each)\n"
     ]
    }
   ],
   "source": [
    "key = random.PRNGKey(0)\n",
    "x = random.normal(key, (10,))\n",
    "print(x)\n",
    "\n",
    "size = 3000\n",
    "x = random.normal(key, (size, size), dtype=jnp.float32)\n",
    "#%timeit \n",
    "%timeit jnp.dot(x, x.T).block_until_ready()  # runs on the GPU"
   ]
  },
  {
   "cell_type": "code",
   "execution_count": 4,
   "metadata": {},
   "outputs": [
    {
     "name": "stdout",
     "output_type": "stream",
     "text": [
      "Forward gradient: [[2. 0. 0.]\n",
      " [0. 4. 0.]\n",
      " [0. 0. 6.]]\n",
      "Reverse gradient: [[2. 0. 0.]\n",
      " [0. 4. 0.]\n",
      " [0. 0. 6.]]\n"
     ]
    }
   ],
   "source": [
    "\n",
    "\n",
    "def square(x):\n",
    "    return jnp.square(x)\n",
    "\n",
    "x = jnp.array([1.0, 2.0, 3.0])\n",
    "\n",
    "# 使用 jax.jacfwd 计算函数的前向雅可比矩阵（梯度）\n",
    "grad_fwd = jax.jacfwd(square)\n",
    "grad = grad_fwd(x)\n",
    "print(\"Forward gradient:\", grad)\n",
    "\n",
    "# 使用 jax.jacrev 计算函数的反向雅可比矩阵（梯度）\n",
    "grad_rev = jax.jacrev(square)\n",
    "grad = grad_rev(x)\n",
    "print(\"Reverse gradient:\", grad)\n"
   ]
  }
 ],
 "metadata": {
  "kernelspec": {
   "display_name": "torch",
   "language": "python",
   "name": "python3"
  },
  "language_info": {
   "codemirror_mode": {
    "name": "ipython",
    "version": 3
   },
   "file_extension": ".py",
   "mimetype": "text/x-python",
   "name": "python",
   "nbconvert_exporter": "python",
   "pygments_lexer": "ipython3",
   "version": "3.8.16"
  },
  "orig_nbformat": 4
 },
 "nbformat": 4,
 "nbformat_minor": 2
}
